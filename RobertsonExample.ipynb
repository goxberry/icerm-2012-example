{
 "metadata": {
  "name": "RobertsonExample"
 }, 
 "nbformat": 2, 
 "worksheets": [
  {
   "cells": [
    {
     "cell_type": "markdown", 
     "source": [
      "#Example for ICERM 2012 Workshop on Reproducibility in Computational and Experimental Mathematics#"
     ]
    }, 
    {
     "cell_type": "markdown", 
     "source": [
      "##Integrating the Robertson problem using a Python interface to DASSL##"
     ]
    }, 
    {
     "cell_type": "markdown", 
     "source": [
      "The Robertson problem is a classical ordinary differential equation (ODE) used to test stiff ODE and differential-algebraic equation (DAE) solvers. DASSL, written by Linda Petzold in Fortran, is one example of a DAE solver. Josh Allen, a colleague of mine at MIT, wrote a Python interface to DASSL called PyDAS. In order to use it, and to plot the results, we need to import some Python modules."
     ]
    }, 
    {
     "cell_type": "code", 
     "collapsed": true, 
     "input": [
      "import numpy", 
      "import scipy.linalg", 
      "import pydas", 
      "import matplotlib.pyplot", 
      "import copy"
     ], 
     "language": "python", 
     "outputs": [], 
     "prompt_number": 1
    }, 
    {
     "cell_type": "markdown", 
     "source": [
      "The Robertson problem takes the following form as an ODE:", 
      "", 
      "\\begin{align}", 
      "\\dot{y}\\_{0}(t) &= -4 \\cdot 10^{-2}y\\_{0}(t) + 10^{4}y\\_{1}(t)y\\_{2}(t), \\\\\\", 
      "\\dot{y}\\_{1}(t) &= 4 \\cdot 10^{-2}y\\_{0}(t) - 10^{4}y\\_{1}(t)y\\_{2}(t) - 3 \\cdot 10^{7}y\\_{1}^{2}(t), \\\\\\", 
      "\\dot{y}\\_{2}(t) &= 3 \\cdot 10^{7}y\\_{1}^{2}(t)", 
      "\\end{align}", 
      "", 
      "However, we need to pose it instead as a DAE by moving the derivative terms into the right-hand side:", 
      "", 
      "\\begin{align}", 
      "0 &= -\\dot{y}\\_{0}(t) - 4 \\cdot 10^{-2}y\\_{0}(t) + 10^{4}y\\_{1}(t)y\\_{2}(t), \\\\\\", 
      "0 &= -\\dot{y}\\_{1}(t) + 4 \\cdot 10^{-2}y\\_{0}(t) - 10^{4}y\\_{1}(t)y\\_{2}(t) - 3 \\cdot 10^{7}y\\_{1}^{2}(t), \\\\\\", 
      "0 &= -\\dot{y}\\_{2}(t) + 3 \\cdot 10^{7}y\\_{1}^{2}(t)", 
      "\\end{align}", 
      "", 
      "We define the DAE right-hand side (and its Jacobian matrix) using the `pydas.DASSL` class defined in `pydas`. This class should have two member functions:", 
      "", 
      "- `residual`: defines the DAE right-hand side", 
      "- `jacobian` (optional): defines Jacobian matrix information of the DAE right-hand side"
     ]
    }, 
    {
     "cell_type": "code", 
     "collapsed": true, 
     "input": [
      "# Define the residual and optional Jacobian matrix", 
      "class Problem(pydas.DASSL):", 
      "    def residual(self, t, y, dydt):", 
      "        ode_rhs = numpy.asarray([-0.04 * y[0] + 1e4 * y[1] * y[2],", 
      "         0.04 * y[0] - 1e4 * y[1] * y[2] - 3e7 * y[1] ** 2,", 
      "         3e7 * y[1] ** 2])", 
      "        res = ode_rhs - dydt", 
      "        return res, 0", 
      "    def jacobian(self, t, y, dydt, cj):", 
      "        # This function actually returns:", 
      "        # cj * (Jacobian matrix wrt dydt) + ", 
      "        # (Jacobian matrix wrt y), because that's how the solver", 
      "        # DASSL is written; cj is a numerical term determined", 
      "        # by DASSL.", 
      "        ode_jac = numpy.asarray([[-0.04, 1e4*y[2],1e4*y[1]],", 
      "        [0.04, -1e4*y[2] - 3e7*2*y[1], -1e4*y[1]],", 
      "        [0,    -3e7*2*y[1],                   0]])", 
      "        jac = -cj * numpy.eye(3) + ode_jac", 
      "        return jac"
     ], 
     "language": "python", 
     "outputs": [], 
     "prompt_number": 2
    }, 
    {
     "cell_type": "markdown", 
     "source": [
      "Next, we need to set up data structures to hold the solution to the DAE:"
     ]
    }, 
    {
     "cell_type": "code", 
     "collapsed": true, 
     "input": [
      "t = [] # Time [s]"
     ], 
     "language": "python", 
     "outputs": [], 
     "prompt_number": 3
    }, 
    {
     "cell_type": "code", 
     "collapsed": true, 
     "input": [
      "y = [] # State variables; these are supposed to be concentrations"
     ], 
     "language": "python", 
     "outputs": [], 
     "prompt_number": 4
    }, 
    {
     "cell_type": "markdown", 
     "source": [
      "Define the end of the time interval over which we want a solution, and the maximum number of solver iterations:"
     ]
    }, 
    {
     "cell_type": "code", 
     "collapsed": true, 
     "input": [
      "t_final = 1e6 #It's common to solve this problem for long times", 
      "maxiter = 5000"
     ], 
     "language": "python", 
     "outputs": [], 
     "prompt_number": 5
    }, 
    {
     "cell_type": "markdown", 
     "source": [
      "We need to set initial conditions for the problem."
     ]
    }, 
    {
     "cell_type": "code", 
     "collapsed": true, 
     "input": [
      "t_initial = 0", 
      "y_initial = numpy.array([1.0, 0, 0])", 
      "dydt_initial = numpy.array([-0.04, 0.04, 0])"
     ], 
     "language": "python", 
     "outputs": [], 
     "prompt_number": 7
    }, 
    {
     "cell_type": "code", 
     "collapsed": true, 
     "input": [
      "dassl = Problem()"
     ], 
     "language": "python", 
     "outputs": [], 
     "prompt_number": 9
    }, 
    {
     "cell_type": "code", 
     "collapsed": false, 
     "input": [
      "dassl.initialize(t_initial, y_initial, dydt_initial,", 
      "                 atol=1e-12, rtol=1e-12)"
     ], 
     "language": "python", 
     "outputs": [], 
     "prompt_number": 12
    }, 
    {
     "cell_type": "markdown", 
     "source": [
      "Then we can calculate a solution to the problem by using the `pydas.DASSL.step` method, which advances the time step automatically based on the solver (rather than manually selecting values of time at which to return data)."
     ]
    }, 
    {
     "cell_type": "code", 
     "collapsed": true, 
     "input": [
      "iter = 0", 
      "while iter < maxiter and dassl.t < t_final:", 
      "    dassl.step(t_final)", 
      "    t.append(dassl.t)", 
      "    # Must make copy of dassl.y because DASSL overwrites it at", 
      "    # each call to pydas.DASSL.step", 
      "    y.append(dassl.y.copy())"
     ], 
     "language": "python", 
     "outputs": [], 
     "prompt_number": 13
    }, 
    {
     "cell_type": "markdown", 
     "source": [
      "Then we convert the solution arrays to NumPy arrays and plot the solution: "
     ]
    }, 
    {
     "cell_type": "code", 
     "collapsed": true, 
     "input": [
      "t = numpy.array(t)", 
      "y = numpy.array(y)"
     ], 
     "language": "python", 
     "outputs": [], 
     "prompt_number": 14
    }, 
    {
     "cell_type": "code", 
     "collapsed": false, 
     "input": [
      "t.shape"
     ], 
     "language": "python", 
     "outputs": [
      {
       "output_type": "pyout", 
       "prompt_number": 19, 
       "text": [
        "(2884,)"
       ]
      }
     ], 
     "prompt_number": 19
    }, 
    {
     "cell_type": "code", 
     "collapsed": false, 
     "input": [
      "y.shape"
     ], 
     "language": "python", 
     "outputs": [
      {
       "output_type": "pyout", 
       "prompt_number": 20, 
       "text": [
        "(2884, 3)"
       ]
      }
     ], 
     "prompt_number": 20
    }, 
    {
     "cell_type": "code", 
     "collapsed": false, 
     "input": [
      "fig1 = matplotlib.pyplot.figure()", 
      "ax = fig1.gca()", 
      "ax.plot(t,y[:,0],'r-')", 
      "ax.plot(t,y[:,1],'b-')", 
      "ax.plot(t,y[:,2],'k-')"
     ], 
     "language": "python", 
     "outputs": [
      {
       "output_type": "pyout", 
       "prompt_number": 21, 
       "text": [
        "[<matplotlib.lines.Line2D at 0x1060f6b50>]"
       ]
      }
     ], 
     "prompt_number": 21
    }, 
    {
     "cell_type": "code", 
     "collapsed": true, 
     "input": [
      "fig1.show()"
     ], 
     "language": "python", 
     "outputs": [], 
     "prompt_number": 22
    }, 
    {
     "cell_type": "code", 
     "collapsed": true, 
     "input": [], 
     "language": "python", 
     "outputs": []
    }
   ]
  }
 ]
}